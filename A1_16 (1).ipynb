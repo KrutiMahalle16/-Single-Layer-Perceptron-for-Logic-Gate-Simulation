{
  "cells": [
    {
      "cell_type": "markdown",
      "id": "45610ae5-c5f7-4447-95f3-1bbe87a0cd60",
      "metadata": {
        "id": "45610ae5-c5f7-4447-95f3-1bbe87a0cd60"
      },
      "source": [
        "## 1. Implementing single layer perceptron model"
      ]
    },
    {
      "cell_type": "code",
      "execution_count": null,
      "id": "a1748506-e7c0-492f-90f6-6f5d54bcff55",
      "metadata": {
        "id": "a1748506-e7c0-492f-90f6-6f5d54bcff55",
        "outputId": "f881c8b2-e632-4340-e1e3-74278cbacd17"
      },
      "outputs": [
        {
          "name": "stdout",
          "output_type": "stream",
          "text": [
            "Input: [0 0], Predicted: 0\n",
            "Input: [0 1], Predicted: 0\n",
            "Input: [1 0], Predicted: 0\n",
            "Input: [1 1], Predicted: 1\n"
          ]
        }
      ],
      "source": [
        "import numpy as np\n",
        "\n",
        "def step_function(x):\n",
        "    return 1 if x >= 0 else 0\n",
        "\n",
        "class Perceptron:\n",
        "    def __init__(self, input_size, learning_rate=0.1):\n",
        "        self.weights = np.zeros(input_size)\n",
        "        self.bias = 0\n",
        "        self.learning_rate = learning_rate\n",
        "\n",
        "    def predict(self, x):\n",
        "        z = np.dot(x, self.weights) + self.bias\n",
        "        return step_function(z)\n",
        "\n",
        "    def train(self, X, y, epochs):\n",
        "        for _ in range(epochs):\n",
        "            for i in range(len(X)):\n",
        "                y_pred = self.predict(X[i])\n",
        "                error = y[i] - y_pred\n",
        "                self.weights += self.learning_rate * error * X[i]\n",
        "                self.bias += self.learning_rate * error\n",
        "\n",
        "X = np.array([[0, 0], [0, 1], [1, 0], [1, 1]])\n",
        "y = np.array([0, 0, 0, 1])\n",
        "\n",
        "perceptron = Perceptron(input_size=2)\n",
        "perceptron.train(X, y, epochs=10)\n",
        "\n",
        "for x in X:\n",
        "    print(f\"Input: {x}, Predicted: {perceptron.predict(x)}\")\n"
      ]
    },
    {
      "cell_type": "markdown",
      "id": "291f4753-341c-4405-b349-9a1c4f365e5a",
      "metadata": {
        "id": "291f4753-341c-4405-b349-9a1c4f365e5a"
      },
      "source": [
        "## 2. Simulate Basic Logic Gates"
      ]
    },
    {
      "cell_type": "markdown",
      "id": "3e61770c-caa7-425b-8ace-f7b381fb17f4",
      "metadata": {
        "id": "3e61770c-caa7-425b-8ace-f7b381fb17f4"
      },
      "source": [
        "### AND Gate"
      ]
    },
    {
      "cell_type": "code",
      "execution_count": null,
      "id": "4f702375-61c5-443a-9920-8a4534b7643f",
      "metadata": {
        "id": "4f702375-61c5-443a-9920-8a4534b7643f",
        "outputId": "fddf2e4d-ca13-4b42-cb4e-b584af56fdf0"
      },
      "outputs": [
        {
          "name": "stdout",
          "output_type": "stream",
          "text": [
            "AND Gate - Input: [0 0], Predicted: 0\n",
            "AND Gate - Input: [0 1], Predicted: 0\n",
            "AND Gate - Input: [1 0], Predicted: 0\n",
            "AND Gate - Input: [1 1], Predicted: 1\n"
          ]
        }
      ],
      "source": [
        "y_and = np.array([0, 0, 0, 1])\n",
        "perceptron.train(X, y_and, epochs=10)\n",
        "\n",
        "for x in X:\n",
        "    print(f\"AND Gate - Input: {x}, Predicted: {perceptron.predict(x)}\")\n"
      ]
    },
    {
      "cell_type": "markdown",
      "id": "d4b76665-3f59-4a1e-a441-a80a67f4835c",
      "metadata": {
        "id": "d4b76665-3f59-4a1e-a441-a80a67f4835c"
      },
      "source": [
        "### OR Gate"
      ]
    },
    {
      "cell_type": "code",
      "execution_count": null,
      "id": "545e80fe-6cfd-4c83-a777-60efbd60fbfb",
      "metadata": {
        "id": "545e80fe-6cfd-4c83-a777-60efbd60fbfb",
        "outputId": "d4d0d904-8702-41b5-cc8e-0d09687db726"
      },
      "outputs": [
        {
          "name": "stdout",
          "output_type": "stream",
          "text": [
            "OR Gate - Input: [0 0], Predicted: 0\n",
            "OR Gate - Input: [0 1], Predicted: 1\n",
            "OR Gate - Input: [1 0], Predicted: 1\n",
            "OR Gate - Input: [1 1], Predicted: 1\n"
          ]
        }
      ],
      "source": [
        "y_or = np.array([0, 1, 1, 1])\n",
        "perceptron.train(X, y_or, epochs=10)\n",
        "\n",
        "for x in X:\n",
        "    print(f\"OR Gate - Input: {x}, Predicted: {perceptron.predict(x)}\")\n"
      ]
    },
    {
      "cell_type": "markdown",
      "id": "d205a0a7-e4b1-4dd2-889a-eb3d2af234b3",
      "metadata": {
        "id": "d205a0a7-e4b1-4dd2-889a-eb3d2af234b3"
      },
      "source": [
        "### NOT Gate"
      ]
    },
    {
      "cell_type": "code",
      "execution_count": null,
      "id": "a431326d-3ed0-4953-a076-94a0bc5c70f5",
      "metadata": {
        "id": "a431326d-3ed0-4953-a076-94a0bc5c70f5",
        "outputId": "666132a5-951a-44f4-fa69-db4c508c7258"
      },
      "outputs": [
        {
          "name": "stdout",
          "output_type": "stream",
          "text": [
            "NOT Gate - Input: [0], Predicted: 1\n",
            "NOT Gate - Input: [1], Predicted: 0\n"
          ]
        }
      ],
      "source": [
        "X_not = np.array([[0], [1]])\n",
        "y_not = np.array([1, 0])\n",
        "\n",
        "perceptron_not = Perceptron(input_size=1)\n",
        "perceptron_not.train(X_not, y_not, epochs=10)\n",
        "\n",
        "for x in X_not:\n",
        "    print(f\"NOT Gate - Input: {x}, Predicted: {perceptron_not.predict(x)}\")\n"
      ]
    },
    {
      "cell_type": "markdown",
      "id": "f4b340db-af99-45eb-b30b-8b915bf2c9df",
      "metadata": {
        "id": "f4b340db-af99-45eb-b30b-8b915bf2c9df"
      },
      "source": [
        "## 3. Simulate Complex Logic Gates"
      ]
    },
    {
      "cell_type": "markdown",
      "id": "a68a080b-211e-4111-95f4-fefd69a34733",
      "metadata": {
        "id": "a68a080b-211e-4111-95f4-fefd69a34733"
      },
      "source": [
        "### NAND Gate"
      ]
    },
    {
      "cell_type": "code",
      "execution_count": null,
      "id": "bdd0ad35-4e09-4f50-a2d6-0772c4fc4b35",
      "metadata": {
        "id": "bdd0ad35-4e09-4f50-a2d6-0772c4fc4b35",
        "outputId": "9258130c-aef9-441a-dd08-31e963000aab"
      },
      "outputs": [
        {
          "name": "stdout",
          "output_type": "stream",
          "text": [
            "NAND Gate - Input: [0 0], Predicted: 1\n",
            "NAND Gate - Input: [0 1], Predicted: 1\n",
            "NAND Gate - Input: [1 0], Predicted: 1\n",
            "NAND Gate - Input: [1 1], Predicted: 0\n"
          ]
        }
      ],
      "source": [
        "y_nand = np.array([1, 1, 1, 0])\n",
        "perceptron.train(X, y_nand, epochs=10)\n",
        "\n",
        "for x in X:\n",
        "    print(f\"NAND Gate - Input: {x}, Predicted: {perceptron.predict(x)}\")\n"
      ]
    },
    {
      "cell_type": "markdown",
      "id": "c149007a-0fcf-4266-83c8-cae0eccc1f0c",
      "metadata": {
        "id": "c149007a-0fcf-4266-83c8-cae0eccc1f0c"
      },
      "source": [
        "### NOR Gate"
      ]
    },
    {
      "cell_type": "code",
      "execution_count": null,
      "id": "db6cafdc-b0a3-4907-858e-d445eda48622",
      "metadata": {
        "id": "db6cafdc-b0a3-4907-858e-d445eda48622",
        "outputId": "960d2e5c-d3c5-4c06-ed0b-593b2a922d51"
      },
      "outputs": [
        {
          "name": "stdout",
          "output_type": "stream",
          "text": [
            "NOR Gate - Input: [0 0], Predicted: 1\n",
            "NOR Gate - Input: [0 1], Predicted: 0\n",
            "NOR Gate - Input: [1 0], Predicted: 0\n",
            "NOR Gate - Input: [1 1], Predicted: 0\n"
          ]
        }
      ],
      "source": [
        "y_nor = np.array([1, 0, 0, 0])\n",
        "perceptron.train(X, y_nor, epochs=10)\n",
        "\n",
        "for x in X:\n",
        "    print(f\"NOR Gate - Input: {x}, Predicted: {perceptron.predict(x)}\")\n"
      ]
    },
    {
      "cell_type": "markdown",
      "id": "5144e7f6-b19e-4b42-bf77-99cb39b45795",
      "metadata": {
        "id": "5144e7f6-b19e-4b42-bf77-99cb39b45795"
      },
      "source": [
        "### XOR Gate"
      ]
    },
    {
      "cell_type": "code",
      "execution_count": null,
      "id": "038a3378-2fb6-4c40-b0ae-5f9a9f2d9dcc",
      "metadata": {
        "id": "038a3378-2fb6-4c40-b0ae-5f9a9f2d9dcc",
        "outputId": "7f48b3db-0a92-4225-8c2c-88c6e454d81c"
      },
      "outputs": [
        {
          "name": "stdout",
          "output_type": "stream",
          "text": [
            "XOR Gate - Single-layer perceptron cannot solve XOR gate.\n"
          ]
        }
      ],
      "source": [
        "y_xor = np.array([0, 1, 1, 0])\n",
        "print(\"XOR Gate - Single-layer perceptron cannot solve XOR gate.\")\n"
      ]
    },
    {
      "cell_type": "markdown",
      "id": "90e610a0-77be-4add-99a6-4924f817fa9a",
      "metadata": {
        "id": "90e610a0-77be-4add-99a6-4924f817fa9a"
      },
      "source": [
        "### XNOR Gate"
      ]
    },
    {
      "cell_type": "code",
      "execution_count": null,
      "id": "080ed7dd-fee5-463d-b10c-9e9e24fa2a4b",
      "metadata": {
        "id": "080ed7dd-fee5-463d-b10c-9e9e24fa2a4b",
        "outputId": "5f81a66c-1209-4677-f7dd-c98c46f72b53"
      },
      "outputs": [
        {
          "name": "stdout",
          "output_type": "stream",
          "text": [
            "XNOR Gate - Single-layer perceptron cannot solve XNOR gate.\n"
          ]
        }
      ],
      "source": [
        "y_xnor = np.array([1, 0, 0, 1])\n",
        "print(\"XNOR Gate - Single-layer perceptron cannot solve XNOR gate.\")\n"
      ]
    }
  ],
  "metadata": {
    "kernelspec": {
      "display_name": "Python 3 (ipykernel)",
      "language": "python",
      "name": "python3"
    },
    "language_info": {
      "codemirror_mode": {
        "name": "ipython",
        "version": 3
      },
      "file_extension": ".py",
      "mimetype": "text/x-python",
      "name": "python",
      "nbconvert_exporter": "python",
      "pygments_lexer": "ipython3",
      "version": "3.12.5"
    },
    "colab": {
      "provenance": []
    }
  },
  "nbformat": 4,
  "nbformat_minor": 5
}